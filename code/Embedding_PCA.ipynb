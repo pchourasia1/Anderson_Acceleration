{
 "cells": [
  {
   "cell_type": "code",
   "execution_count": 2,
   "id": "85ee37d2-1d6b-4432-8fe7-075a77b80331",
   "metadata": {},
   "outputs": [],
   "source": [
    "from sklearn.decomposition import PCA\n",
    "import numpy as np\n",
    "import pandas as pd"
   ]
  },
  {
   "cell_type": "code",
   "execution_count": 39,
   "id": "98ba012c-2015-4c1c-ab1c-ad8a413fd08f",
   "metadata": {},
   "outputs": [],
   "source": [
    "# X = np.load(\"C:/Users/pchourasia1/Desktop/Anderson/data/embeddings/spike/kmer_Frequency_Vector_7000.npy\")\n",
    "# X = np.load(\"C:/Users/pchourasia1/Desktop/Anderson/data/embeddings/spike/Minimizer_Frequency_Vector_7000.npy\")\n",
    "# X = np.load(\"C:/Users/pchourasia1/Desktop/Anderson/data/embeddings/spike/Spaced_kmers_7000_Freq_vec_g_9_k_4.npy\")\n",
    "\n",
    "# X = np.load(\"C:/Users/pchourasia1/Desktop/Anderson/data/embeddings/shortRead/kmer_frequency_vector_8140_seq.npy\")\n",
    "# X = np.load(\"C:/Users/pchourasia1/Desktop/Anderson/data/embeddings/shortRead/minimizer_frequency_vector_8140_seq.npy\")\n",
    "# X = np.load(\"C:/Users/pchourasia1/Desktop/Anderson/data/embeddings/shortRead/spaced_kmer_frequency_vector_8140_seq.npy\")\n",
    "\n",
    "# X = np.load(\"C:/Users/pchourasia1/Desktop/Anderson/data/embeddings/host/Spike2Vec_on_unaligned_for_Host_Classification_Data_5558_seq.npy\")\n",
    "# X = np.load(\"C:/Users/pchourasia1/Desktop/Anderson/data/embeddings/host/Minimizer_on_unaligned_for_Host_Classification_Data_5558_seq.npy\")\n",
    "# X = np.load(\"C:/Users/pchourasia1/Desktop/Anderson/data/embeddings/host/Spaced_kmers_5558_Freq_vec_k_4.npy\")\n",
    "\n",
    "X = np.load(\"C:/Users/pchourasia1/Desktop/Anderson/data/embeddings/genome/Spike2Vec_org_red_seq_8220.npy\")\n",
    "# X = np.load(\"C:/Users/pchourasia1/Desktop/Anderson/data/embeddings/genome/minimizer_frequency_vector_8140_seq.npy\")\n",
    "# X = np.load(\"C:/Users/pchourasia1/Desktop/Anderson/data/embeddings/genome/spaced_kmer_frequency_vector_8140_seq.npy\")"
   ]
  },
  {
   "cell_type": "code",
   "execution_count": 40,
   "id": "02993cae-7239-4b2e-aaa7-be0b660358e5",
   "metadata": {},
   "outputs": [
    {
     "data": {
      "text/plain": [
       "(8220, 125)"
      ]
     },
     "execution_count": 40,
     "metadata": {},
     "output_type": "execute_result"
    }
   ],
   "source": [
    "X.shape"
   ]
  },
  {
   "cell_type": "code",
   "execution_count": 35,
   "id": "c87f46cf-835f-4855-9203-ae385ba13290",
   "metadata": {},
   "outputs": [],
   "source": [
    "pca = PCA(n_components=500)\n",
    "principalComponents = pca.fit_transform(X)"
   ]
  },
  {
   "cell_type": "code",
   "execution_count": 36,
   "id": "9c898b6c-5183-41ea-8fc7-7f0f0cd6672d",
   "metadata": {},
   "outputs": [],
   "source": [
    "principalArr = np.array(principalComponents)"
   ]
  },
  {
   "cell_type": "code",
   "execution_count": 37,
   "id": "8176161c-dcb8-42c7-adb4-d03ce19b734f",
   "metadata": {},
   "outputs": [
    {
     "data": {
      "text/plain": [
       "(5558, 500)"
      ]
     },
     "execution_count": 37,
     "metadata": {},
     "output_type": "execute_result"
    }
   ],
   "source": [
    "principalArr.shape"
   ]
  },
  {
   "cell_type": "code",
   "execution_count": 38,
   "id": "5b346202-3fb8-40cd-83b7-0159233fb460",
   "metadata": {},
   "outputs": [],
   "source": [
    "np.save(\"C:/Users/pchourasia1/Desktop/Anderson/data/pca_embeddings/host/Spaced_kmers_5558_Freq_vec_k_4_PCA_500.npy\", principalArr)"
   ]
  },
  {
   "cell_type": "code",
   "execution_count": null,
   "id": "92afdc04-7f51-4c64-8bc9-edb09ff8f2a8",
   "metadata": {},
   "outputs": [],
   "source": []
  }
 ],
 "metadata": {
  "kernelspec": {
   "display_name": "Python 3",
   "language": "python",
   "name": "python3"
  },
  "language_info": {
   "codemirror_mode": {
    "name": "ipython",
    "version": 3
   },
   "file_extension": ".py",
   "mimetype": "text/x-python",
   "name": "python",
   "nbconvert_exporter": "python",
   "pygments_lexer": "ipython3",
   "version": "3.8.8"
  }
 },
 "nbformat": 4,
 "nbformat_minor": 5
}
