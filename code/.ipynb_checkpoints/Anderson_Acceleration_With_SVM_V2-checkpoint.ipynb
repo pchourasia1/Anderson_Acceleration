{
 "cells": [
  {
   "cell_type": "code",
   "execution_count": 22,
   "id": "a555a269",
   "metadata": {},
   "outputs": [],
   "source": [
    "from sklearn.svm import LinearSVC\n",
    "\n",
    "class LinearSVCWithAA(LinearSVC):\n",
    "    def __init__(self, learning_rate=1.0, alpha=0.1, n_iterations=10, verbose=False):        \n",
    "        # Initialize the attributes of the LinearSVCWithAA class\n",
    "        self.learning_rate = learning_rate\n",
    "        self.alpha = alpha\n",
    "        self.n_iterations = n_iterations\n",
    "        self.verbose = verbose\n",
    "        self.loss = []  # Add this line to store the loss values\n",
    "\n",
    "#         # Initialize the coef_ attribute\n",
    "# #         self.coef_ = None\n",
    "#         self.coef_ = np.random.randn(5,)\n",
    "    \n",
    "#         # Initialize the coef_prev attribute\n",
    "#         self.coef_prev = self.coef_\n",
    "      \n",
    "    \n",
    "    \n",
    "    def fit(self, X, y, n_iterations=100, alpha=0.1,learning_rate=0.1):\n",
    "        \"\"\"\n",
    "        Fit the model to the training data.\n",
    "\n",
    "        Parameters\n",
    "        ----------\n",
    "        X : array-like, shape (n_samples, n_features)\n",
    "            Training data.\n",
    "        y : array-like, shape (n_samples,)\n",
    "            Target labels.\n",
    "        n_iterations : int\n",
    "            Number of iterations to run the algorithm.\n",
    "        alpha : float\n",
    "            Anderson acceleration factor.\n",
    "        \"\"\"\n",
    "        # Convert the labels to one-hot encoded labels\n",
    "        y_one_hot = np.eye(np.max(y) + 1)[y]\n",
    "\n",
    "        # Initialize the weight vector and the loss list\n",
    "#         self.coef_ = np.random.randn(X.shape[1])\n",
    "#         self.coef_ = np.random.randn(X.shape[1], len(np.unique(y)))\n",
    "        self.coef_ = np.random.randn(X.shape[1], X.shape[1])\n",
    "#         loss = []\n",
    "\n",
    "        # Initialize the weight vector history\n",
    "        coef_history = [self.coef_]\n",
    "\n",
    "        # Run the Perceptron algorithm with Anderson acceleration\n",
    "        for i in range(n_iterations):\n",
    "            # Compute the gradient\n",
    "            grad = self._gradient(X, y)\n",
    "\n",
    "            # Add the updated weight vector to the history\n",
    "            coef_history.append(self.coef_)\n",
    "\n",
    "            # If we have enough past weight vectors, perform Anderson acceleration\n",
    "            if len(coef_history) > 2:\n",
    "                # Compute the difference between the current weight vector and the previous one\n",
    "                diff = coef_history[-1] - coef_history[-2]\n",
    "\n",
    "                # Update the current weight vector using Anderson acceleration\n",
    "#                 print(\"self.coef_ \",self.coef_)\n",
    "#                 print(\"self.coef_ \",self.coef_)\n",
    "                self.coef_ += alpha * diff + grad[0]\n",
    "            else:\n",
    "                # Update the current weight vector using the gradient\n",
    "#                 print(\"self.coef_ \",self.coef_)\n",
    "#                 print(\"grad \",grad[0])\n",
    "                self.coef_ += learning_rate * grad[0]\n",
    "\n",
    "            # Compute the loss for this iteration\n",
    "            y_pred = self.predict(X)\n",
    "#             iter_loss = self.hinge_loss(y,y_pred)\n",
    "#             iter_loss = np.maximum(0, 1 - y * y_pred)\n",
    "#             print(\"iter_loss: \",iter_loss)\n",
    "            #######################################################\n",
    "            # Compute the loss for this sample\n",
    "#             sample_loss = -np.sum(y * np.log(y_pred))\n",
    "            # Increment the loss and the number of correct predictions for this iteration\n",
    "#             iter_loss += int(sample_loss)\n",
    "#             n_correct += int(np.argmax(y_pred) == np.argmax(y))\n",
    "            # Compute the loss for this iteration\n",
    "#             loss_value = np.maximum(0, 1 - y * y_pred) # hinge loss\n",
    "            loss_value = self.cross_entropy_loss(y, y_pred)\n",
    "#             print(\"Iteration: \", i, \", Loss: \",loss_value)\n",
    "            self.loss.append(loss_value)\n",
    "#             self.loss.append(iter_loss)\n",
    "            #########################################################\n",
    "\n",
    "            # Save the previous weight vector\n",
    "            self.coef_prev = self.coef_\n",
    "\n",
    "        # Save the number of iterations and the alpha value\n",
    "        self.n_iterations_ = n_iterations\n",
    "        self.alpha_ = alpha\n",
    "\n",
    "    def cross_entropy_loss(self, y, y_pred):\n",
    "        # Compute the loss for each sample\n",
    "#         print(\"y length: \",len(y))\n",
    "#         print(\"y_pred length: \",len(y_pred))\n",
    "        sample_loss = -np.sum(y * np.log(y_pred + 1e-10))\n",
    "\n",
    "        # Average the loss over the number of samples\n",
    "        loss = np.mean(sample_loss)\n",
    "#         print(\"sample_loss\",sample_loss,\", loss\",loss)\n",
    "\n",
    "        return loss\n",
    "\n",
    "\n",
    "    def hinge_loss(self, X, y):\n",
    "        # Compute the prediction for each sample\n",
    "        y_pred = self.predict(X)\n",
    "        \n",
    "        # Compute the hinge loss for each sample\n",
    "        loss = np.maximum(0, 1 - y * y_pred)\n",
    "        \n",
    "        return loss\n",
    "    \n",
    "    \n",
    "    def predict(self, X):\n",
    "#         # Compute the class scores for each sample\n",
    "#         scores = np.dot(X, self.coef_.T)\n",
    "\n",
    "#         # Predict the class for each sample\n",
    "#         y_pred = np.argmax(scores)\n",
    "\n",
    "#         return y_pred\n",
    "    \n",
    "        # Predict the class of each sample in X\n",
    "        y_pred = np.dot(X, self.coef_)\n",
    "\n",
    "        # Normalize the predictions\n",
    "        y_pred = y_pred / np.sum(y_pred, axis=1, keepdims=True)\n",
    "\n",
    "        # Return the predicted class for each sample\n",
    "        return np.argmax(y_pred, axis=1)\n",
    "\n",
    "\n",
    "    \n",
    "    def _gradient(self, X, y):\n",
    "        # Compute the prediction for each sample\n",
    "        y_pred = self.predict(X)\n",
    "\n",
    "        # Compute the gradient of the loss function with respect to the weight vector\n",
    "        \n",
    "        grad_coef = np.dot(X.T, np.maximum(0, 1 - y * y_pred))\n",
    "        \n",
    "        # Average the gradient over the number of samples\n",
    "#         grad_coef /= len(X)\n",
    "        grad_coef = np.divide(grad_coef, len(X))\n",
    "        \n",
    "        grad_coef = np.squeeze(grad_coef) ###################################################\n",
    "\n",
    "        # Compute the gradient of the loss function with respect to the bias term\n",
    "        grad_intercept = np.sum(np.maximum(0, 1 - y * y_pred)) / len(X)\n",
    "\n",
    "        # Return the gradient as a tuple\n",
    "        return (grad_coef, grad_intercept)\n",
    "    \n",
    "    \n",
    "    \n"
   ]
  },
  {
   "cell_type": "code",
   "execution_count": 27,
   "id": "dc3e51b8-54bf-44e0-9321-4eb2c38403b0",
   "metadata": {},
   "outputs": [],
   "source": [
    "import numpy as np\n",
    "from sklearn.metrics import accuracy_score\n",
    "import matplotlib.pyplot as plt\n",
    "import matplotlib.pyplot as plt\n",
    "from scipy.special import softmax\n",
    "import numpy as np\n",
    "import pandas as pd\n",
    "from sklearn.metrics import accuracy_score\n",
    "import matplotlib.pyplot as plt\n",
    "import matplotlib.pyplot as plt\n",
    "from scipy.special import softmax\n",
    "from sklearn.metrics import accuracy_score, precision_score, recall_score\n",
    "# from sklearn.model_selection import train_test_split\n",
    "\n",
    "from sklearn.model_selection import ShuffleSplit # or StratifiedShuffleSplit"
   ]
  },
  {
   "cell_type": "code",
   "execution_count": 25,
   "id": "457c11b8-6de9-4a99-be81-16b94761a89c",
   "metadata": {},
   "outputs": [],
   "source": [
    "X = np.load(\"C:/Users/pchourasia1/Desktop/Spaced_kmers/first_Spike2Vec_freq_vec_seq_data_7000.npy\")\n",
    "attribute_data = np.load(\"C:/Users/pchourasia1/Desktop/Spaced_kmers/Dataset/seq_data_variant_names_7000.npy\")"
   ]
  },
  {
   "cell_type": "code",
   "execution_count": null,
   "id": "8ba6bcf7-2d92-4e2b-9333-015925308dfb",
   "metadata": {},
   "outputs": [],
   "source": [
    "import csv\n",
    "\n",
    "items = []\n",
    "\n",
    "with open('C:/Users/pchourasia1/Desktop/tSNE-Evaluation/first_variant_name_data_7000.csv') as csvfile:    \n",
    "\tcsvReader = csv.reader(csvfile)    \n",
    "\tfor row in csvReader:        \n",
    "\t\titems.append(row[0])        \n",
    "print(len(items))"
   ]
  },
  {
   "cell_type": "code",
   "execution_count": 30,
   "id": "41ed6a6d-6d44-4d26-a794-dab36921910e",
   "metadata": {},
   "outputs": [],
   "source": [
    "from sklearn.decomposition import PCA\n",
    "pca = PCA(n_components=500)\n",
    "principalComponents = pca.fit_transform(X)\n",
    "principalDf = pd.DataFrame(data = principalComponents)"
   ]
  },
  {
   "cell_type": "code",
   "execution_count": 31,
   "id": "bb27b2fb-58c2-46d5-85b7-98b77783c9c9",
   "metadata": {},
   "outputs": [
    {
     "data": {
      "text/plain": [
       "(7000, 500)"
      ]
     },
     "execution_count": 31,
     "metadata": {},
     "output_type": "execute_result"
    }
   ],
   "source": [
    "principalDf.shape"
   ]
  },
  {
   "cell_type": "code",
   "execution_count": null,
   "id": "fc0e9175-f08f-4f90-81ac-7f39ddee8cad",
   "metadata": {},
   "outputs": [],
   "source": [
    "principalDf.to_csv(\"C:/Users/pchourasia1/Desktop/tSne_extension/tSNE_matrix_shortRead_data/Approximate/pca_2d.csv\", header=False, index=False)"
   ]
  },
  {
   "cell_type": "code",
   "execution_count": 6,
   "id": "e15d7e59-998e-4b5d-b8de-305e341d10d5",
   "metadata": {},
   "outputs": [
    {
     "name": "stdout",
     "output_type": "stream",
     "text": [
      "Attribute data preprocessing Done\n"
     ]
    }
   ],
   "source": [
    "attr_new = []\n",
    "for i in range(len(attribute_data)):\n",
    "    aa = str(attribute_data[i]).replace(\"[\",\"\")\n",
    "    aa_1 = aa.replace(\"]\",\"\")\n",
    "    aa_2 = aa_1.replace(\"\\'\",\"\")\n",
    "    attr_new.append(aa_2)\n",
    "\n",
    "unique_hst = list(np.unique(attr_new))\n",
    "\n",
    "int_hosts = []\n",
    "for ind_unique in range(len(attr_new)):\n",
    "    variant_tmp = attr_new[ind_unique]\n",
    "    ind_tmp = unique_hst.index(variant_tmp)\n",
    "    int_hosts.append(ind_tmp)\n",
    "    \n",
    "print(\"Attribute data preprocessing Done\")\n",
    "\n",
    "y = np.array(int_hosts[:])\n",
    "\n",
    "sss = ShuffleSplit(n_splits=1, test_size=0.3)\n",
    "\n",
    "sss.get_n_splits(X, y)\n",
    "train_index, test_index = next(sss.split(X, y)) \n",
    "\n",
    "X_train, X_test = X[train_index], X[test_index]\n",
    "y_train, y_test = y[train_index], y[test_index]\n",
    "\n",
    "# x_train,x_test,y_train,y_test=train_test_split(X,Y,test_size=0.1,random_state=68)\n"
   ]
  },
  {
   "cell_type": "code",
   "execution_count": 7,
   "id": "313446f1",
   "metadata": {},
   "outputs": [],
   "source": [
    "# # Import the necessary libraries\n",
    "# import numpy as np\n",
    "# from sklearn.metrics import accuracy_score\n",
    "# import matplotlib.pyplot as plt\n",
    "# import matplotlib.pyplot as plt\n",
    "# from scipy.special import softmax\n",
    "# from sklearn.metrics import accuracy_score, precision_score, recall_score\n",
    "# # from sklearn.model_selection import train_test_split\n",
    "\n",
    "# # # Split the data into training and test sets\n",
    "# # X_train, X_test, y_train, y_test = train_test_split(X, y, test_size=0.2)\n",
    "\n",
    "# n_classes = 2\n",
    "# n_features = 11\n",
    "\n",
    "# train_sample_size = 1000\n",
    "# # Load the training data and labels\n",
    "# X_train = np.random.randn(train_sample_size, n_features)\n",
    "# y_train = np.random.randint(n_classes, size=train_sample_size)\n",
    "\n",
    "# # Load the test data and labels\n",
    "# testing_sample_size = 300\n",
    "# X_test = np.random.randn(testing_sample_size, n_features)\n",
    "# y_test = np.random.randint(n_classes, size=testing_sample_size)\n",
    "# #############################################################################\n"
   ]
  },
  {
   "cell_type": "code",
   "execution_count": 12,
   "id": "0a93fa1c-cd61-4400-aa3f-da278f6251b6",
   "metadata": {},
   "outputs": [
    {
     "name": "stdout",
     "output_type": "stream",
     "text": [
      "Accuracy: 0.0\n",
      "Precision: 0.0\n",
      "Recall: 0.0\n"
     ]
    },
    {
     "name": "stderr",
     "output_type": "stream",
     "text": [
      "C:\\Users\\pchourasia1\\Anaconda3\\lib\\site-packages\\sklearn\\metrics\\_classification.py:1334: UndefinedMetricWarning: Precision is ill-defined and being set to 0.0 in labels with no predicted samples. Use `zero_division` parameter to control this behavior.\n",
      "  _warn_prf(average, modifier, msg_start, len(result))\n",
      "C:\\Users\\pchourasia1\\Anaconda3\\lib\\site-packages\\sklearn\\metrics\\_classification.py:1334: UndefinedMetricWarning: Recall is ill-defined and being set to 0.0 in labels with no true samples. Use `zero_division` parameter to control this behavior.\n",
      "  _warn_prf(average, modifier, msg_start, len(result))\n"
     ]
    }
   ],
   "source": [
    "# Train the model using the LinearSVCWithAA class\n",
    "model = LinearSVCWithAA()\n",
    "model.fit(X_train, y_train,n_iterations=10, learning_rate=0.1)\n",
    "\n",
    "# Predict the classes of the test set\n",
    "# y_pred = []\n",
    "# for i in range(len(X_test)):\n",
    "#     y_pred.append(model.predict(X_test[i]))\n",
    "\n",
    "y_pred = model.predict(X_test)\n",
    "\n",
    "# Compute the classification accuracy\n",
    "accuracy = accuracy_score(y_test, y_pred)\n",
    "\n",
    "# Compute the precision\n",
    "precision = precision_score(y_test, y_pred, average='macro')\n",
    "\n",
    "# Compute the recall\n",
    "recall = recall_score(y_test, y_pred, average='macro')\n",
    "\n",
    "print('Accuracy:', accuracy)\n",
    "print('Precision:', precision)\n",
    "print('Recall:', recall)"
   ]
  },
  {
   "cell_type": "code",
   "execution_count": 18,
   "id": "9263bf57",
   "metadata": {},
   "outputs": [
    {
     "data": {
      "image/png": "[encoded data removed]",
      "text/plain": [
       "<Figure size 432x288 with 1 Axes>"
      ]
     },
     "metadata": {
      "needs_background": "light"
     },
     "output_type": "display_data"
    }
   ],
   "source": [
    "# Create a LinearSVCWithAA object with Anderson acceleration\n",
    "learning_rate_val = 0.05\n",
    "n_iterations_value = 2\n",
    "svc_aa = LinearSVCWithAA(alpha=0.5, learning_rate=learning_rate_val)\n",
    "\n",
    "# Create a LinearSVCWithAA object without Anderson acceleration\n",
    "svc_no_aa = LinearSVCWithAA(alpha=0, learning_rate=learning_rate_val)\n",
    "\n",
    "# Fit the models on the training data\n",
    "svc_aa.fit(X_train, y_train,n_iterations=n_iterations_value, learning_rate=learning_rate_val)\n",
    "svc_no_aa.fit(X_train, y_train,n_iterations=n_iterations_value, learning_rate=learning_rate_val)\n",
    "\n",
    "# Plot the loss for the two models\n",
    "plt.plot(svc_aa.loss, label='With Anderson acceleration')\n",
    "plt.plot(svc_no_aa.loss, label='Without Anderson acceleration')\n",
    "plt.xlabel('Iteration')\n",
    "plt.ylabel('Loss')\n",
    "plt.legend()\n",
    "# plt.savefig(\"E:/RA/Anderson_Acceleration/Plots/SVM.png\")\n",
    "plt.show()\n"
   ]
  },
  {
   "cell_type": "code",
   "execution_count": null,
   "id": "bab5d62f",
   "metadata": {},
   "outputs": [],
   "source": []
  },
  {
   "cell_type": "code",
   "execution_count": 58,
   "id": "addf4df6",
   "metadata": {},
   "outputs": [],
   "source": [
    "# svc_aa.loss"
   ]
  },
  {
   "cell_type": "code",
   "execution_count": null,
   "id": "038501a0",
   "metadata": {},
   "outputs": [],
   "source": []
  }
 ],
 "metadata": {
  "kernelspec": {
   "display_name": "Python 3",
   "language": "python",
   "name": "python3"
  },
  "language_info": {
   "codemirror_mode": {
    "name": "ipython",
    "version": 3
   },
   "file_extension": ".py",
   "mimetype": "text/x-python",
   "name": "python",
   "nbconvert_exporter": "python",
   "pygments_lexer": "ipython3",
   "version": "3.8.8"
  }
 },
 "nbformat": 4,
 "nbformat_minor": 5
}
